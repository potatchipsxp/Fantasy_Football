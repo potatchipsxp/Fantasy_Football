{
 "cells": [
  {
   "cell_type": "code",
   "execution_count": 1,
   "metadata": {},
   "outputs": [],
   "source": [
    "%matplotlib inline\n",
    "import matplotlib.pyplot as plt\n",
    "import glob\n",
    "import os\n",
    "import pandas as pd\n",
    "import numpy as np\n",
    "import csv\n",
    "import re\n",
    "from mpl_toolkits.mplot3d import Axes3D\n",
    "from ipywidgets import interact, interactive, fixed, interact_manual\n",
    "import ipywidgets as widgets\n",
    "from bs4 import BeautifulSoup\n",
    "import requests\n",
    "import scipy\n",
    "import re\n",
    "import os"
   ]
  },
  {
   "cell_type": "markdown",
   "metadata": {},
   "source": [
    "# Color Current Rankings"
   ]
  },
  {
   "cell_type": "code",
   "execution_count": 153,
   "metadata": {},
   "outputs": [],
   "source": [
    "os.remove(\"ColorCodedPlayerRankings.xlsx\")"
   ]
  },
  {
   "cell_type": "code",
   "execution_count": 154,
   "metadata": {},
   "outputs": [],
   "source": [
    "writer = pd.ExcelWriter(\"ColorCodedPlayerRankings.xlsx\", engine='xlsxwriter')"
   ]
  },
  {
   "cell_type": "code",
   "execution_count": 155,
   "metadata": {},
   "outputs": [],
   "source": [
    "ColorCodingDf = pd.read_csv('PlayerRankings.csv', encoding = \"ISO-8859-1\")"
   ]
  },
  {
   "cell_type": "code",
   "execution_count": 156,
   "metadata": {},
   "outputs": [],
   "source": [
    "ColorCodingDf.drop(columns=ColorCodingDf.columns[0], \n",
    "        axis=1, \n",
    "        inplace=True)"
   ]
  },
  {
   "cell_type": "code",
   "execution_count": 157,
   "metadata": {},
   "outputs": [],
   "source": [
    "# ColorCodingDf = ColorCodingDf.replace({'TE????': 'TE++++'})"
   ]
  },
  {
   "cell_type": "code",
   "execution_count": 158,
   "metadata": {},
   "outputs": [],
   "source": [
    "s = pd.Series(0, ColorCodingDf.columns)\n",
    "f = lambda d: d.append(s, ignore_index=True)\n",
    "\n",
    "grp = np.arange(len(ColorCodingDf)) // 12\n",
    "ColorCodingDf = ColorCodingDf.groupby(grp, group_keys=False).apply(f).reset_index(drop=True)"
   ]
  },
  {
   "cell_type": "code",
   "execution_count": 159,
   "metadata": {},
   "outputs": [],
   "source": [
    "ColorCodingDf.to_excel(writer, sheet_name='Sheet1')"
   ]
  },
  {
   "cell_type": "code",
   "execution_count": 160,
   "metadata": {},
   "outputs": [],
   "source": [
    "workbook  = writer.book\n",
    "worksheet = writer.sheets['Sheet1']"
   ]
  },
  {
   "cell_type": "code",
   "execution_count": 161,
   "metadata": {},
   "outputs": [],
   "source": [
    "# format1 = workbook.add_format({'num_format': '#,##0.00'})\n",
    "# format2 = workbook.add_format({'num_format': '0%'})"
   ]
  },
  {
   "cell_type": "code",
   "execution_count": 162,
   "metadata": {},
   "outputs": [],
   "source": [
    "rb1plusformat = workbook.add_format({'bg_color': '#98FB98','font_color': '#000000'})\n",
    "\n",
    "worksheet.conditional_format('A1:G500', {'type': 'formula',\n",
    "                                          'criteria': '=$E1=\"RB.\"',\n",
    "                                          'format': rb1plusformat})"
   ]
  },
  {
   "cell_type": "code",
   "execution_count": 163,
   "metadata": {},
   "outputs": [],
   "source": [
    "rb1or2format = workbook.add_format({'bg_color': '#00FF7F','font_color': '#000000'})\n",
    "\n",
    "worksheet.conditional_format('A1:G500', {'type': 'formula',\n",
    "                                          'criteria': '=$E1=\"RB..\"',\n",
    "                                          'format': rb1or2format})"
   ]
  },
  {
   "cell_type": "code",
   "execution_count": 164,
   "metadata": {},
   "outputs": [],
   "source": [
    "rb2format = workbook.add_format({'bg_color': '#ADFF2F','font_color': '#000000'})\n",
    "\n",
    "worksheet.conditional_format('A1:G500', {'type': 'formula',\n",
    "                                          'criteria': '=$E1=\"RB...\"',\n",
    "                                          'format': rb2format})"
   ]
  },
  {
   "cell_type": "code",
   "execution_count": 165,
   "metadata": {},
   "outputs": [],
   "source": [
    "rbFlexplusformat = workbook.add_format({'bg_color': '#00FF00','font_color': '#000000'})\n",
    "\n",
    "worksheet.conditional_format('A1:G500', {'type': 'formula',\n",
    "                                          'criteria': '=$E1=\"RB....\"',\n",
    "                                          'format': rbFlexplusformat})"
   ]
  },
  {
   "cell_type": "code",
   "execution_count": 166,
   "metadata": {},
   "outputs": [],
   "source": [
    "rbUUformat = workbook.add_format({'bg_color': '#32CD32','font_color': '#000000'})\n",
    "\n",
    "worksheet.conditional_format('A1:G500', {'type': 'formula',\n",
    "                                          'criteria': '=$E1=\"RB.....\"',\n",
    "                                          'format': rbUUformat})"
   ]
  },
  {
   "cell_type": "code",
   "execution_count": 167,
   "metadata": {},
   "outputs": [],
   "source": [
    "rbHCplusformat = workbook.add_format({'bg_color': '#6B8E23','font_color': '#000000'})\n",
    "\n",
    "worksheet.conditional_format('A1:G500', {'type': 'formula',\n",
    "                                          'criteria': '=$E1=\"RB......\"',\n",
    "                                          'format': rbHCplusformat})"
   ]
  },
  {
   "cell_type": "code",
   "execution_count": 168,
   "metadata": {},
   "outputs": [],
   "source": [
    "rbUnknownformat = workbook.add_format({'bg_color': '#228B22','font_color': '#000000'})\n",
    "\n",
    "worksheet.conditional_format('A1:G500', {'type': 'formula',\n",
    "                                          'criteria': '=$E1=\"RB???\"',\n",
    "                                          'format': rbUnknownformat})"
   ]
  },
  {
   "cell_type": "code",
   "execution_count": 169,
   "metadata": {},
   "outputs": [],
   "source": [
    "wr1plusformat = workbook.add_format({'bg_color': '#FFA07A','font_color': '#000000'})\n",
    "\n",
    "worksheet.conditional_format('A1:G500', {'type': 'formula',\n",
    "                                          'criteria': '=$E1=\"WR.\"',\n",
    "                                          'format': wr1plusformat})"
   ]
  },
  {
   "cell_type": "code",
   "execution_count": 170,
   "metadata": {},
   "outputs": [],
   "source": [
    "wr1or2format = workbook.add_format({'bg_color': '#FA8072','font_color': '#000000'})\n",
    "\n",
    "worksheet.conditional_format('A1:G500', {'type': 'formula',\n",
    "                                          'criteria': '=$E1=\"WR..\"',\n",
    "                                          'format': wr1or2format})"
   ]
  },
  {
   "cell_type": "code",
   "execution_count": 171,
   "metadata": {},
   "outputs": [],
   "source": [
    "wr2format = workbook.add_format({'bg_color': '#E9967A','font_color': '#000000'})\n",
    "\n",
    "worksheet.conditional_format('A1:G500', {'type': 'formula',\n",
    "                                          'criteria': '=$E1=\"WR...\"',\n",
    "                                          'format': wr2format})"
   ]
  },
  {
   "cell_type": "code",
   "execution_count": 172,
   "metadata": {},
   "outputs": [],
   "source": [
    "wr2lFhC = workbook.add_format({'bg_color': '#CD5C5C','font_color': '#000000'})\n",
    "\n",
    "worksheet.conditional_format('A1:G500', {'type': 'formula',\n",
    "                                          'criteria': '=$E1=\"WR....\"',\n",
    "                                          'format': wr2lFhC})"
   ]
  },
  {
   "cell_type": "code",
   "execution_count": 173,
   "metadata": {},
   "outputs": [],
   "source": [
    "wr2hC = workbook.add_format({'bg_color': '#FF0000','font_color': '#000000'})\n",
    "\n",
    "worksheet.conditional_format('A1:G500', {'type': 'formula',\n",
    "                                          'criteria': '=$E1=\"WR.....\"',\n",
    "                                          'format': wr2hC})"
   ]
  },
  {
   "cell_type": "code",
   "execution_count": 174,
   "metadata": {},
   "outputs": [],
   "source": [
    "wrFplusplus = workbook.add_format({'bg_color': '#FF4500','font_color': '#000000'})\n",
    "\n",
    "worksheet.conditional_format('A1:G500', {'type': 'formula',\n",
    "                                          'criteria': '=$E1=\"WR......\"',\n",
    "                                          'format': wrFplusplus})"
   ]
  },
  {
   "cell_type": "code",
   "execution_count": 175,
   "metadata": {},
   "outputs": [],
   "source": [
    "wrfplus = workbook.add_format({'bg_color': '#DC143C','font_color': '#000000'})\n",
    "\n",
    "worksheet.conditional_format('A1:G500', {'type': 'formula',\n",
    "                                          'criteria': '=$E1=\"WRF+\"',\n",
    "                                          'format': wrfplus})"
   ]
  },
  {
   "cell_type": "code",
   "execution_count": 176,
   "metadata": {},
   "outputs": [],
   "source": [
    "wrunknownplus = workbook.add_format({'bg_color': '#DB7093','font_color': '#000000'})\n",
    "\n",
    "worksheet.conditional_format('A1:G500', {'type': 'formula',\n",
    "                                          'criteria': '=$E1=\"WR?+\"',\n",
    "                                          'format': wrunknownplus})"
   ]
  },
  {
   "cell_type": "code",
   "execution_count": 177,
   "metadata": {},
   "outputs": [],
   "source": [
    "wrunknownfplus = workbook.add_format({'bg_color': '#B22222','font_color': '#000000'})\n",
    "\n",
    "worksheet.conditional_format('A1:G500', {'type': 'formula',\n",
    "                                          'criteria': '=$E1=\"WR?F+\"',\n",
    "                                          'format': wrunknownfplus})"
   ]
  },
  {
   "cell_type": "code",
   "execution_count": 178,
   "metadata": {},
   "outputs": [],
   "source": [
    "teBest = workbook.add_format({'bg_color': '#F0F8FF','font_color': '#000000'})\n",
    "\n",
    "worksheet.conditional_format('A1:G500', {'type': 'formula',\n",
    "                                          'criteria': '=$E1=\"TE.\"',\n",
    "                                          'format': teBest})"
   ]
  },
  {
   "cell_type": "code",
   "execution_count": 179,
   "metadata": {},
   "outputs": [],
   "source": [
    "teplusplus = workbook.add_format({'bg_color': '#B0E0E6','font_color': '#000000'})\n",
    "\n",
    "worksheet.conditional_format('A1:G500', {'type': 'formula',\n",
    "                                          'criteria': '=$E1=\"TE..\"',\n",
    "                                          'format': teplusplus})"
   ]
  },
  {
   "cell_type": "code",
   "execution_count": 180,
   "metadata": {},
   "outputs": [],
   "source": [
    "teplus = workbook.add_format({'bg_color': '#00BFFF','font_color': '#000000'})\n",
    "\n",
    "worksheet.conditional_format('A1:G500', {'type': 'formula',\n",
    "                                          'criteria': '=$E1=\"TE...\"',\n",
    "                                          'format': teplus})"
   ]
  },
  {
   "cell_type": "code",
   "execution_count": 181,
   "metadata": {},
   "outputs": [],
   "source": [
    "# tebasic = workbook.add_format({'bg_color': '#0000FF','font_color': '#000000'})\n",
    "\n",
    "# worksheet.conditional_format('A1:G500', {'type': 'formula',\n",
    "#                                           'criteria': '=$E1=\"TE+\"',\n",
    "#                                           'format': tebasic})"
   ]
  },
  {
   "cell_type": "code",
   "execution_count": 182,
   "metadata": {},
   "outputs": [],
   "source": [
    "qbgold = workbook.add_format({'bg_color': '#DDA0DD','font_color': '#000000'})\n",
    "\n",
    "worksheet.conditional_format('A1:G500', {'type': 'formula',\n",
    "                                          'criteria': '=$E1=\"QB.\"',\n",
    "                                          'format': qbgold})"
   ]
  },
  {
   "cell_type": "code",
   "execution_count": 183,
   "metadata": {},
   "outputs": [],
   "source": [
    "qbplusplus = workbook.add_format({'bg_color': '#FF00FF','font_color': '#000000'})\n",
    "\n",
    "worksheet.conditional_format('A1:G500', {'type': 'formula',\n",
    "                                          'criteria': '=$E1=\"QB..\"',\n",
    "                                          'format': qbplusplus})"
   ]
  },
  {
   "cell_type": "code",
   "execution_count": 184,
   "metadata": {},
   "outputs": [],
   "source": [
    "qbplus = workbook.add_format({'bg_color': '#9400D3','font_color': '#000000'})\n",
    "\n",
    "worksheet.conditional_format('A1:G500', {'type': 'formula',\n",
    "                                          'criteria': '=$E1=\"QB...\"',\n",
    "                                          'format': qbplus})"
   ]
  },
  {
   "cell_type": "code",
   "execution_count": 185,
   "metadata": {},
   "outputs": [],
   "source": [
    "qb1 = workbook.add_format({'bg_color': '#4B0082','font_color': '#000000'})\n",
    "\n",
    "worksheet.conditional_format('A1:G500', {'type': 'formula',\n",
    "                                          'criteria': '=$E1=\"QB1\"',\n",
    "                                          'format': qb1})"
   ]
  },
  {
   "cell_type": "code",
   "execution_count": 186,
   "metadata": {},
   "outputs": [],
   "source": [
    "qb2 = workbook.add_format({'bg_color': '#4B0082','font_color': '#000000'})\n",
    "\n",
    "worksheet.conditional_format('A1:G500', {'type': 'formula',\n",
    "                                          'criteria': '=$E1=\"QB2\"',\n",
    "                                          'format': qb2})"
   ]
  },
  {
   "cell_type": "code",
   "execution_count": 187,
   "metadata": {},
   "outputs": [],
   "source": [
    "spaceRound = workbook.add_format({'bg_color': '#000000','font_color': '#000000'})\n",
    "\n",
    "worksheet.conditional_format('A1:G500', {'type': 'formula',\n",
    "                                          'criteria': '=$E1=0',\n",
    "                                          'format': spaceRound})"
   ]
  },
  {
   "cell_type": "code",
   "execution_count": null,
   "metadata": {},
   "outputs": [],
   "source": []
  },
  {
   "cell_type": "code",
   "execution_count": 188,
   "metadata": {},
   "outputs": [],
   "source": [
    "writer.save()"
   ]
  },
  {
   "cell_type": "code",
   "execution_count": null,
   "metadata": {},
   "outputs": [],
   "source": []
  },
  {
   "cell_type": "code",
   "execution_count": null,
   "metadata": {},
   "outputs": [],
   "source": []
  }
 ],
 "metadata": {
  "kernelspec": {
   "display_name": "Python 3",
   "language": "python",
   "name": "python3"
  },
  "language_info": {
   "codemirror_mode": {
    "name": "ipython",
    "version": 3
   },
   "file_extension": ".py",
   "mimetype": "text/x-python",
   "name": "python",
   "nbconvert_exporter": "python",
   "pygments_lexer": "ipython3",
   "version": "3.8.5"
  }
 },
 "nbformat": 4,
 "nbformat_minor": 2
}
