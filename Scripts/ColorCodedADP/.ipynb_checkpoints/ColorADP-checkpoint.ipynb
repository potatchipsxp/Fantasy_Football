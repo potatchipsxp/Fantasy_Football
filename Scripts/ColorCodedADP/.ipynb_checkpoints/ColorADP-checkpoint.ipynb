{
 "cells": [
  {
   "cell_type": "code",
   "execution_count": 1,
   "metadata": {},
   "outputs": [],
   "source": [
    "%matplotlib inline\n",
    "import matplotlib.pyplot as plt\n",
    "import glob\n",
    "import os\n",
    "import pandas as pd\n",
    "import numpy as np\n",
    "import csv\n",
    "import re\n",
    "from mpl_toolkits.mplot3d import Axes3D\n",
    "from ipywidgets import interact, interactive, fixed, interact_manual\n",
    "import ipywidgets as widgets\n",
    "from bs4 import BeautifulSoup\n",
    "import requests\n",
    "import scipy\n",
    "import re\n",
    "import os"
   ]
  },
  {
   "cell_type": "markdown",
   "metadata": {},
   "source": [
    "# Color Current Rankings"
   ]
  },
  {
   "cell_type": "code",
   "execution_count": 36,
   "metadata": {},
   "outputs": [],
   "source": [
    "os.remove(\"ColorCodedPlayerRankings.xlsx\")"
   ]
  },
  {
   "cell_type": "code",
   "execution_count": 37,
   "metadata": {},
   "outputs": [],
   "source": [
    "writer = pd.ExcelWriter(\"ColorCodedPlayerRankings.xlsx\", engine='xlsxwriter')"
   ]
  },
  {
   "cell_type": "code",
   "execution_count": 44,
   "metadata": {},
   "outputs": [],
   "source": [
    "ColorCodingDf = pd.read_csv('PlayerRankings.csv', encoding = \"ISO-8859-1\")"
   ]
  },
  {
   "cell_type": "code",
   "execution_count": 46,
   "metadata": {},
   "outputs": [],
   "source": [
    "ColorCodingDf.drop(columns=ColorCodingDf.columns[0], \n",
    "        axis=1, \n",
    "        inplace=True)"
   ]
  },
  {
   "cell_type": "code",
   "execution_count": 42,
   "metadata": {},
   "outputs": [],
   "source": [
    "# ColorCodingDf = ColorCodingDf.replace({'TE????': 'TE++++'})"
   ]
  },
  {
   "cell_type": "code",
   "execution_count": 77,
   "metadata": {},
   "outputs": [
    {
     "data": {
      "text/html": [
       "<div>\n",
       "<style scoped>\n",
       "    .dataframe tbody tr th:only-of-type {\n",
       "        vertical-align: middle;\n",
       "    }\n",
       "\n",
       "    .dataframe tbody tr th {\n",
       "        vertical-align: top;\n",
       "    }\n",
       "\n",
       "    .dataframe thead th {\n",
       "        text-align: right;\n",
       "    }\n",
       "</style>\n",
       "<table border=\"1\" class=\"dataframe\">\n",
       "  <thead>\n",
       "    <tr style=\"text-align: right;\">\n",
       "      <th></th>\n",
       "      <th>Rank</th>\n",
       "      <th>player</th>\n",
       "      <th>POSrank</th>\n",
       "      <th>Tier</th>\n",
       "    </tr>\n",
       "  </thead>\n",
       "  <tbody>\n",
       "    <tr>\n",
       "      <th>0</th>\n",
       "      <td>0</td>\n",
       "      <td>\"Christian McCaffrey\"</td>\n",
       "      <td>RB1</td>\n",
       "      <td>RB.</td>\n",
       "    </tr>\n",
       "    <tr>\n",
       "      <th>1</th>\n",
       "      <td>1</td>\n",
       "      <td>\"Dalvin Cook\"</td>\n",
       "      <td>RB2</td>\n",
       "      <td>RB.</td>\n",
       "    </tr>\n",
       "    <tr>\n",
       "      <th>2</th>\n",
       "      <td>2</td>\n",
       "      <td>\"Derrick Henry\"</td>\n",
       "      <td>RB3</td>\n",
       "      <td>RB.</td>\n",
       "    </tr>\n",
       "    <tr>\n",
       "      <th>3</th>\n",
       "      <td>3</td>\n",
       "      <td>\"Alvin Kamara\"</td>\n",
       "      <td>RB4</td>\n",
       "      <td>RB..</td>\n",
       "    </tr>\n",
       "    <tr>\n",
       "      <th>4</th>\n",
       "      <td>4</td>\n",
       "      <td>\"Nick Chubb\"</td>\n",
       "      <td>RB5</td>\n",
       "      <td>RB..</td>\n",
       "    </tr>\n",
       "    <tr>\n",
       "      <th>...</th>\n",
       "      <td>...</td>\n",
       "      <td>...</td>\n",
       "      <td>...</td>\n",
       "      <td>...</td>\n",
       "    </tr>\n",
       "    <tr>\n",
       "      <th>376</th>\n",
       "      <td>0</td>\n",
       "      <td>0</td>\n",
       "      <td>0</td>\n",
       "      <td>0</td>\n",
       "    </tr>\n",
       "    <tr>\n",
       "      <th>377</th>\n",
       "      <td>348</td>\n",
       "      <td>\"Austin MacGinnis\"</td>\n",
       "      <td>K30</td>\n",
       "      <td>NaN</td>\n",
       "    </tr>\n",
       "    <tr>\n",
       "      <th>378</th>\n",
       "      <td>349</td>\n",
       "      <td>\"Devin Smith\"</td>\n",
       "      <td>WR123</td>\n",
       "      <td>NaN</td>\n",
       "    </tr>\n",
       "    <tr>\n",
       "      <th>379</th>\n",
       "      <td>350</td>\n",
       "      <td>\"Chris Conley\"</td>\n",
       "      <td>WR124</td>\n",
       "      <td>NaN</td>\n",
       "    </tr>\n",
       "    <tr>\n",
       "      <th>380</th>\n",
       "      <td>0</td>\n",
       "      <td>0</td>\n",
       "      <td>0</td>\n",
       "      <td>0</td>\n",
       "    </tr>\n",
       "  </tbody>\n",
       "</table>\n",
       "<p>381 rows × 4 columns</p>\n",
       "</div>"
      ],
      "text/plain": [
       "     Rank                  player POSrank  Tier\n",
       "0       0  \"Christian McCaffrey\"      RB1   RB.\n",
       "1       1          \"Dalvin Cook\"      RB2   RB.\n",
       "2       2        \"Derrick Henry\"      RB3   RB.\n",
       "3       3         \"Alvin Kamara\"      RB4  RB..\n",
       "4       4           \"Nick Chubb\"      RB5  RB..\n",
       "..    ...                     ...     ...   ...\n",
       "376     0                       0       0     0\n",
       "377   348     \"Austin MacGinnis\"      K30   NaN\n",
       "378   349          \"Devin Smith\"    WR123   NaN\n",
       "379   350         \"Chris Conley\"    WR124   NaN\n",
       "380     0                       0       0     0\n",
       "\n",
       "[381 rows x 4 columns]"
      ]
     },
     "execution_count": 77,
     "metadata": {},
     "output_type": "execute_result"
    }
   ],
   "source": [
    "s = pd.Series(0, ColorCodingDf.columns)\n",
    "f = lambda d: d.append(s, ignore_index=True)\n",
    "\n",
    "grp = np.arange(len(ColorCodingDf)) // 12\n",
    "ColorCodingDf.groupby(grp, group_keys=False).apply(f).reset_index(drop=True)"
   ]
  },
  {
   "cell_type": "code",
   "execution_count": 48,
   "metadata": {},
   "outputs": [],
   "source": [
    "ColorCodingDf.to_excel(writer, sheet_name='Sheet1')"
   ]
  },
  {
   "cell_type": "code",
   "execution_count": 49,
   "metadata": {},
   "outputs": [],
   "source": [
    "workbook  = writer.book\n",
    "worksheet = writer.sheets['Sheet1']"
   ]
  },
  {
   "cell_type": "code",
   "execution_count": 50,
   "metadata": {},
   "outputs": [],
   "source": [
    "# format1 = workbook.add_format({'num_format': '#,##0.00'})\n",
    "# format2 = workbook.add_format({'num_format': '0%'})"
   ]
  },
  {
   "cell_type": "code",
   "execution_count": 51,
   "metadata": {},
   "outputs": [],
   "source": [
    "rb1plusformat = workbook.add_format({'bg_color': '#98FB98','font_color': '#000000'})\n",
    "\n",
    "worksheet.conditional_format('A1:G500', {'type': 'formula',\n",
    "                                          'criteria': '=$E1=\"RB.\"',\n",
    "                                          'format': rb1plusformat})"
   ]
  },
  {
   "cell_type": "code",
   "execution_count": 52,
   "metadata": {},
   "outputs": [],
   "source": [
    "rb1or2format = workbook.add_format({'bg_color': '#00FF7F','font_color': '#000000'})\n",
    "\n",
    "worksheet.conditional_format('A1:G500', {'type': 'formula',\n",
    "                                          'criteria': '=$E1=\"RB..\"',\n",
    "                                          'format': rb1or2format})"
   ]
  },
  {
   "cell_type": "code",
   "execution_count": 53,
   "metadata": {},
   "outputs": [],
   "source": [
    "rb2format = workbook.add_format({'bg_color': '#ADFF2F','font_color': '#000000'})\n",
    "\n",
    "worksheet.conditional_format('A1:G500', {'type': 'formula',\n",
    "                                          'criteria': '=$E1=\"RB...\"',\n",
    "                                          'format': rb2format})"
   ]
  },
  {
   "cell_type": "code",
   "execution_count": 54,
   "metadata": {},
   "outputs": [],
   "source": [
    "rbFlexplusformat = workbook.add_format({'bg_color': '#00FF00','font_color': '#000000'})\n",
    "\n",
    "worksheet.conditional_format('A1:G500', {'type': 'formula',\n",
    "                                          'criteria': '=$E1=\"RB....\"',\n",
    "                                          'format': rbFlexplusformat})"
   ]
  },
  {
   "cell_type": "code",
   "execution_count": 55,
   "metadata": {},
   "outputs": [],
   "source": [
    "rbUUformat = workbook.add_format({'bg_color': '#32CD32','font_color': '#000000'})\n",
    "\n",
    "worksheet.conditional_format('A1:G500', {'type': 'formula',\n",
    "                                          'criteria': '=$E1=\"RB.....\"',\n",
    "                                          'format': rbUUformat})"
   ]
  },
  {
   "cell_type": "code",
   "execution_count": 56,
   "metadata": {},
   "outputs": [],
   "source": [
    "rbHCplusformat = workbook.add_format({'bg_color': '#6B8E23','font_color': '#000000'})\n",
    "\n",
    "worksheet.conditional_format('A1:G500', {'type': 'formula',\n",
    "                                          'criteria': '=$E1=\"RB......\"',\n",
    "                                          'format': rbHCplusformat})"
   ]
  },
  {
   "cell_type": "code",
   "execution_count": 57,
   "metadata": {},
   "outputs": [],
   "source": [
    "rbUnknownformat = workbook.add_format({'bg_color': '#228B22','font_color': '#000000'})\n",
    "\n",
    "worksheet.conditional_format('A1:G500', {'type': 'formula',\n",
    "                                          'criteria': '=$E1=\"RB???\"',\n",
    "                                          'format': rbUnknownformat})"
   ]
  },
  {
   "cell_type": "code",
   "execution_count": 58,
   "metadata": {},
   "outputs": [],
   "source": [
    "wr1plusformat = workbook.add_format({'bg_color': '#FFA07A','font_color': '#000000'})\n",
    "\n",
    "worksheet.conditional_format('A1:G500', {'type': 'formula',\n",
    "                                          'criteria': '=$E1=\"WR.\"',\n",
    "                                          'format': wr1plusformat})"
   ]
  },
  {
   "cell_type": "code",
   "execution_count": 59,
   "metadata": {},
   "outputs": [],
   "source": [
    "wr1or2format = workbook.add_format({'bg_color': '#FA8072','font_color': '#000000'})\n",
    "\n",
    "worksheet.conditional_format('A1:G500', {'type': 'formula',\n",
    "                                          'criteria': '=$E1=\"WR..\"',\n",
    "                                          'format': wr1or2format})"
   ]
  },
  {
   "cell_type": "code",
   "execution_count": 60,
   "metadata": {},
   "outputs": [],
   "source": [
    "wr2format = workbook.add_format({'bg_color': '#E9967A','font_color': '#000000'})\n",
    "\n",
    "worksheet.conditional_format('A1:G500', {'type': 'formula',\n",
    "                                          'criteria': '=$E1=\"WR...\"',\n",
    "                                          'format': wr2format})"
   ]
  },
  {
   "cell_type": "code",
   "execution_count": 61,
   "metadata": {},
   "outputs": [],
   "source": [
    "wr2lFhC = workbook.add_format({'bg_color': '#CD5C5C','font_color': '#000000'})\n",
    "\n",
    "worksheet.conditional_format('A1:G500', {'type': 'formula',\n",
    "                                          'criteria': '=$E1=\"WR....\"',\n",
    "                                          'format': wr2lFhC})"
   ]
  },
  {
   "cell_type": "code",
   "execution_count": 62,
   "metadata": {},
   "outputs": [],
   "source": [
    "wr2hC = workbook.add_format({'bg_color': '#FF0000','font_color': '#000000'})\n",
    "\n",
    "worksheet.conditional_format('A1:G500', {'type': 'formula',\n",
    "                                          'criteria': '=$E1=\"WR.....\"',\n",
    "                                          'format': wr2hC})"
   ]
  },
  {
   "cell_type": "code",
   "execution_count": 63,
   "metadata": {},
   "outputs": [],
   "source": [
    "wrFplusplus = workbook.add_format({'bg_color': '#FF4500','font_color': '#000000'})\n",
    "\n",
    "worksheet.conditional_format('A1:G500', {'type': 'formula',\n",
    "                                          'criteria': '=$E1=\"WR......\"',\n",
    "                                          'format': wrFplusplus})"
   ]
  },
  {
   "cell_type": "code",
   "execution_count": 64,
   "metadata": {},
   "outputs": [],
   "source": [
    "wrfplus = workbook.add_format({'bg_color': '#DC143C','font_color': '#000000'})\n",
    "\n",
    "worksheet.conditional_format('A1:G500', {'type': 'formula',\n",
    "                                          'criteria': '=$E1=\"WRF+\"',\n",
    "                                          'format': wrfplus})"
   ]
  },
  {
   "cell_type": "code",
   "execution_count": 65,
   "metadata": {},
   "outputs": [],
   "source": [
    "wrunknownplus = workbook.add_format({'bg_color': '#DB7093','font_color': '#000000'})\n",
    "\n",
    "worksheet.conditional_format('A1:G500', {'type': 'formula',\n",
    "                                          'criteria': '=$E1=\"WR?+\"',\n",
    "                                          'format': wrunknownplus})"
   ]
  },
  {
   "cell_type": "code",
   "execution_count": 66,
   "metadata": {},
   "outputs": [],
   "source": [
    "wrunknownfplus = workbook.add_format({'bg_color': '#B22222','font_color': '#000000'})\n",
    "\n",
    "worksheet.conditional_format('A1:G500', {'type': 'formula',\n",
    "                                          'criteria': '=$E1=\"WR?F+\"',\n",
    "                                          'format': wrunknownfplus})"
   ]
  },
  {
   "cell_type": "code",
   "execution_count": 67,
   "metadata": {},
   "outputs": [],
   "source": [
    "teBest = workbook.add_format({'bg_color': '#F0F8FF','font_color': '#000000'})\n",
    "\n",
    "worksheet.conditional_format('A1:G500', {'type': 'formula',\n",
    "                                          'criteria': '=$E1=\"TE.\"',\n",
    "                                          'format': teBest})"
   ]
  },
  {
   "cell_type": "code",
   "execution_count": 68,
   "metadata": {},
   "outputs": [],
   "source": [
    "teplusplus = workbook.add_format({'bg_color': '#B0E0E6','font_color': '#000000'})\n",
    "\n",
    "worksheet.conditional_format('A1:G500', {'type': 'formula',\n",
    "                                          'criteria': '=$E1=\"TE..\"',\n",
    "                                          'format': teplusplus})"
   ]
  },
  {
   "cell_type": "code",
   "execution_count": 69,
   "metadata": {},
   "outputs": [],
   "source": [
    "teplus = workbook.add_format({'bg_color': '#00BFFF','font_color': '#000000'})\n",
    "\n",
    "worksheet.conditional_format('A1:G500', {'type': 'formula',\n",
    "                                          'criteria': '=$E1=\"TE...\"',\n",
    "                                          'format': teplus})"
   ]
  },
  {
   "cell_type": "code",
   "execution_count": 70,
   "metadata": {},
   "outputs": [],
   "source": [
    "# tebasic = workbook.add_format({'bg_color': '#0000FF','font_color': '#000000'})\n",
    "\n",
    "# worksheet.conditional_format('A1:G500', {'type': 'formula',\n",
    "#                                           'criteria': '=$E1=\"TE+\"',\n",
    "#                                           'format': tebasic})"
   ]
  },
  {
   "cell_type": "code",
   "execution_count": 71,
   "metadata": {},
   "outputs": [],
   "source": [
    "qbgold = workbook.add_format({'bg_color': '#DDA0DD','font_color': '#000000'})\n",
    "\n",
    "worksheet.conditional_format('A1:G500', {'type': 'formula',\n",
    "                                          'criteria': '=$E1=\"QB.\"',\n",
    "                                          'format': qbgold})"
   ]
  },
  {
   "cell_type": "code",
   "execution_count": 72,
   "metadata": {},
   "outputs": [],
   "source": [
    "qbplusplus = workbook.add_format({'bg_color': '#FF00FF','font_color': '#000000'})\n",
    "\n",
    "worksheet.conditional_format('A1:G500', {'type': 'formula',\n",
    "                                          'criteria': '=$E1=\"QB..\"',\n",
    "                                          'format': qbplusplus})"
   ]
  },
  {
   "cell_type": "code",
   "execution_count": 73,
   "metadata": {},
   "outputs": [],
   "source": [
    "qbplus = workbook.add_format({'bg_color': '#9400D3','font_color': '#000000'})\n",
    "\n",
    "worksheet.conditional_format('A1:G500', {'type': 'formula',\n",
    "                                          'criteria': '=$E1=\"QB...\"',\n",
    "                                          'format': qbplus})"
   ]
  },
  {
   "cell_type": "code",
   "execution_count": 74,
   "metadata": {},
   "outputs": [],
   "source": [
    "qb1 = workbook.add_format({'bg_color': '#4B0082','font_color': '#000000'})\n",
    "\n",
    "worksheet.conditional_format('A1:G500', {'type': 'formula',\n",
    "                                          'criteria': '=$E1=\"QB1\"',\n",
    "                                          'format': qb1})"
   ]
  },
  {
   "cell_type": "code",
   "execution_count": 75,
   "metadata": {},
   "outputs": [],
   "source": [
    "qb2 = workbook.add_format({'bg_color': '#4B0082','font_color': '#000000'})\n",
    "\n",
    "worksheet.conditional_format('A1:G500', {'type': 'formula',\n",
    "                                          'criteria': '=$E1=\"QB2\"',\n",
    "                                          'format': qb2})"
   ]
  },
  {
   "cell_type": "code",
   "execution_count": null,
   "metadata": {},
   "outputs": [],
   "source": [
    "qb2 = workbook.add_format({'bg_color': '#000000','font_color': '#000000'})\n",
    "\n",
    "worksheet.conditional_format('A1:G500', {'type': 'formula',\n",
    "                                          'criteria': '=$E1=\"0\"',\n",
    "                                          'format': qb2})"
   ]
  },
  {
   "cell_type": "code",
   "execution_count": null,
   "metadata": {},
   "outputs": [],
   "source": []
  },
  {
   "cell_type": "code",
   "execution_count": 76,
   "metadata": {},
   "outputs": [],
   "source": [
    "writer.save()"
   ]
  },
  {
   "cell_type": "code",
   "execution_count": null,
   "metadata": {},
   "outputs": [],
   "source": []
  },
  {
   "cell_type": "code",
   "execution_count": null,
   "metadata": {},
   "outputs": [],
   "source": []
  }
 ],
 "metadata": {
  "kernelspec": {
   "display_name": "Python 3",
   "language": "python",
   "name": "python3"
  },
  "language_info": {
   "codemirror_mode": {
    "name": "ipython",
    "version": 3
   },
   "file_extension": ".py",
   "mimetype": "text/x-python",
   "name": "python",
   "nbconvert_exporter": "python",
   "pygments_lexer": "ipython3",
   "version": "3.8.5"
  }
 },
 "nbformat": 4,
 "nbformat_minor": 2
}
