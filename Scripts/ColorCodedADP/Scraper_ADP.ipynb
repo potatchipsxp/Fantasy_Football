{
 "cells": [
  {
   "cell_type": "code",
   "execution_count": 1,
   "metadata": {},
   "outputs": [],
   "source": [
    "%matplotlib inline\n",
    "import matplotlib.pyplot as plt\n",
    "import glob\n",
    "import os\n",
    "import pandas as pd\n",
    "import numpy as np\n",
    "import csv\n",
    "import re\n",
    "from mpl_toolkits.mplot3d import Axes3D\n",
    "from ipywidgets import interact, interactive, fixed, interact_manual\n",
    "import ipywidgets as widgets\n",
    "from bs4 import BeautifulSoup\n",
    "import requests\n",
    "import scipy\n",
    "import re"
   ]
  },
  {
   "cell_type": "code",
   "execution_count": 24,
   "metadata": {},
   "outputs": [],
   "source": [
    "tempurl1 = \"https://www.fantasypros.com/nfl/adp/overall.php?print=true\"\n",
    "page = requests.get(tempurl1)\n",
    "soup = BeautifulSoup(page.text, 'html.parser')"
   ]
  },
  {
   "cell_type": "code",
   "execution_count": 25,
   "metadata": {},
   "outputs": [],
   "source": [
    "# soup"
   ]
  },
  {
   "cell_type": "code",
   "execution_count": 26,
   "metadata": {},
   "outputs": [],
   "source": [
    "soup2 = BeautifulSoup(str(soup.find_all('td')))"
   ]
  },
  {
   "cell_type": "code",
   "execution_count": 27,
   "metadata": {},
   "outputs": [],
   "source": [
    "lines = str(soup2).split('href')\n",
    "lines = lines[1:]\n",
    "lines2 = str(lines).split(',')\n",
    "# lines2.append('TEST')"
   ]
  },
  {
   "cell_type": "code",
   "execution_count": 28,
   "metadata": {},
   "outputs": [],
   "source": [
    "# lines"
   ]
  },
  {
   "cell_type": "code",
   "execution_count": 29,
   "metadata": {},
   "outputs": [],
   "source": [
    "twolines = []\n",
    "for i in range(0,len(lines)):\n",
    "    temp = []\n",
    "    if lines[i][0:6] == '=\"/nfl':\n",
    "        temp.append(lines[i].split('=')[-1])\n",
    "        test = lines[i + 1].split(',')[1:8]\n",
    "        for j in test:\n",
    "#             temp.append(re.sub(\"[^0-9]\", \"\", j))\n",
    "            temp.append(j.split('>')[1].split('<')[0])\n",
    "#         re.sub(\"[^0-9]\", \"\", test)\n",
    "        twolines.append(temp)\n",
    "#         temp.append(lines[i])\n",
    "# print(twolines)"
   ]
  },
  {
   "cell_type": "code",
   "execution_count": 53,
   "metadata": {},
   "outputs": [],
   "source": [
    "df = pd.DataFrame(twolines)"
   ]
  },
  {
   "cell_type": "code",
   "execution_count": 54,
   "metadata": {},
   "outputs": [],
   "source": [
    "df = df.iloc[0:410]"
   ]
  },
  {
   "cell_type": "code",
   "execution_count": 55,
   "metadata": {},
   "outputs": [],
   "source": [
    "# df.reset_index(level=0, inplace=True)"
   ]
  },
  {
   "cell_type": "code",
   "execution_count": null,
   "metadata": {},
   "outputs": [],
   "source": []
  },
  {
   "cell_type": "code",
   "execution_count": 56,
   "metadata": {},
   "outputs": [],
   "source": [
    "# df"
   ]
  },
  {
   "cell_type": "code",
   "execution_count": 57,
   "metadata": {},
   "outputs": [],
   "source": [
    "df.columns = ['player', 'POSrank', 'r1','r2','r3','r4','ravg','r6']"
   ]
  },
  {
   "cell_type": "code",
   "execution_count": 58,
   "metadata": {},
   "outputs": [],
   "source": [
    "# prevdf = pd.read_csv(\"FantasyPros_2020_Overall_ADP_Rankings-downloadedtiers.csv\")"
   ]
  },
  {
   "cell_type": "code",
   "execution_count": 59,
   "metadata": {},
   "outputs": [],
   "source": [
    "df.index.rename('Rank', inplace=True)"
   ]
  },
  {
   "cell_type": "code",
   "execution_count": 60,
   "metadata": {},
   "outputs": [
    {
     "data": {
      "text/html": [
       "<div>\n",
       "<style scoped>\n",
       "    .dataframe tbody tr th:only-of-type {\n",
       "        vertical-align: middle;\n",
       "    }\n",
       "\n",
       "    .dataframe tbody tr th {\n",
       "        vertical-align: top;\n",
       "    }\n",
       "\n",
       "    .dataframe thead th {\n",
       "        text-align: right;\n",
       "    }\n",
       "</style>\n",
       "<table border=\"1\" class=\"dataframe\">\n",
       "  <thead>\n",
       "    <tr style=\"text-align: right;\">\n",
       "      <th></th>\n",
       "      <th>player</th>\n",
       "      <th>POSrank</th>\n",
       "      <th>r1</th>\n",
       "      <th>r2</th>\n",
       "      <th>r3</th>\n",
       "      <th>r4</th>\n",
       "      <th>ravg</th>\n",
       "      <th>r6</th>\n",
       "    </tr>\n",
       "    <tr>\n",
       "      <th>Rank</th>\n",
       "      <th></th>\n",
       "      <th></th>\n",
       "      <th></th>\n",
       "      <th></th>\n",
       "      <th></th>\n",
       "      <th></th>\n",
       "      <th></th>\n",
       "      <th></th>\n",
       "    </tr>\n",
       "  </thead>\n",
       "  <tbody>\n",
       "    <tr>\n",
       "      <th>0</th>\n",
       "      <td>\"Christian McCaffrey\"</td>\n",
       "      <td>RB1</td>\n",
       "      <td>1</td>\n",
       "      <td>1</td>\n",
       "      <td>1</td>\n",
       "      <td>1.0</td>\n",
       "      <td>2</td>\n",
       "      <td></td>\n",
       "    </tr>\n",
       "    <tr>\n",
       "      <th>1</th>\n",
       "      <td>\"Dalvin Cook\"</td>\n",
       "      <td>RB2</td>\n",
       "      <td>2</td>\n",
       "      <td>2</td>\n",
       "      <td>3</td>\n",
       "      <td>2.3</td>\n",
       "      <td>3</td>\n",
       "      <td></td>\n",
       "    </tr>\n",
       "    <tr>\n",
       "      <th>2</th>\n",
       "      <td>\"Derrick Henry\"</td>\n",
       "      <td>RB3</td>\n",
       "      <td>4</td>\n",
       "      <td>3</td>\n",
       "      <td>2</td>\n",
       "      <td>3.0</td>\n",
       "      <td>4</td>\n",
       "      <td></td>\n",
       "    </tr>\n",
       "    <tr>\n",
       "      <th>3</th>\n",
       "      <td>\"Alvin Kamara\"</td>\n",
       "      <td>RB4</td>\n",
       "      <td>3</td>\n",
       "      <td>4</td>\n",
       "      <td>4</td>\n",
       "      <td>3.7</td>\n",
       "      <td>5</td>\n",
       "      <td></td>\n",
       "    </tr>\n",
       "    <tr>\n",
       "      <th>4</th>\n",
       "      <td>\"Nick Chubb\"</td>\n",
       "      <td>RB5</td>\n",
       "      <td>7</td>\n",
       "      <td>5</td>\n",
       "      <td>5</td>\n",
       "      <td>5.7</td>\n",
       "      <td>6</td>\n",
       "      <td></td>\n",
       "    </tr>\n",
       "    <tr>\n",
       "      <th>...</th>\n",
       "      <td>...</td>\n",
       "      <td>...</td>\n",
       "      <td>...</td>\n",
       "      <td>...</td>\n",
       "      <td>...</td>\n",
       "      <td>...</td>\n",
       "      <td>...</td>\n",
       "      <td>...</td>\n",
       "    </tr>\n",
       "    <tr>\n",
       "      <th>346</th>\n",
       "      <td>\"N'Keal Harry\"</td>\n",
       "      <td>WR122</td>\n",
       "      <td></td>\n",
       "      <td>346</td>\n",
       "      <td></td>\n",
       "      <td>346.0</td>\n",
       "      <td>348</td>\n",
       "      <td></td>\n",
       "    </tr>\n",
       "    <tr>\n",
       "      <th>347</th>\n",
       "      <td>\"Donald Parham Jr.\"</td>\n",
       "      <td>TE35</td>\n",
       "      <td></td>\n",
       "      <td>347</td>\n",
       "      <td></td>\n",
       "      <td>347.0</td>\n",
       "      <td>349</td>\n",
       "      <td></td>\n",
       "    </tr>\n",
       "    <tr>\n",
       "      <th>348</th>\n",
       "      <td>\"Austin MacGinnis\"</td>\n",
       "      <td>K30</td>\n",
       "      <td></td>\n",
       "      <td>348</td>\n",
       "      <td></td>\n",
       "      <td>348.0</td>\n",
       "      <td>350</td>\n",
       "      <td></td>\n",
       "    </tr>\n",
       "    <tr>\n",
       "      <th>349</th>\n",
       "      <td>\"Devin Smith\"</td>\n",
       "      <td>WR123</td>\n",
       "      <td></td>\n",
       "      <td>349</td>\n",
       "      <td></td>\n",
       "      <td>349.0</td>\n",
       "      <td>351</td>\n",
       "      <td></td>\n",
       "    </tr>\n",
       "    <tr>\n",
       "      <th>350</th>\n",
       "      <td>\"Chris Conley\"</td>\n",
       "      <td>WR124</td>\n",
       "      <td></td>\n",
       "      <td>350</td>\n",
       "      <td></td>\n",
       "      <td>350.0</td>\n",
       "      <td></td>\n",
       "      <td></td>\n",
       "    </tr>\n",
       "  </tbody>\n",
       "</table>\n",
       "<p>351 rows × 8 columns</p>\n",
       "</div>"
      ],
      "text/plain": [
       "                      player POSrank r1   r2 r3     r4 ravg r6\n",
       "Rank                                                          \n",
       "0     \"Christian McCaffrey\"      RB1  1    1  1    1.0    2   \n",
       "1             \"Dalvin Cook\"      RB2  2    2  3    2.3    3   \n",
       "2           \"Derrick Henry\"      RB3  4    3  2    3.0    4   \n",
       "3            \"Alvin Kamara\"      RB4  3    4  4    3.7    5   \n",
       "4              \"Nick Chubb\"      RB5  7    5  5    5.7    6   \n",
       "...                      ...     ... ..  ... ..    ...  ... ..\n",
       "346          \"N'Keal Harry\"    WR122     346     346.0  348   \n",
       "347     \"Donald Parham Jr.\"     TE35     347     347.0  349   \n",
       "348      \"Austin MacGinnis\"      K30     348     348.0  350   \n",
       "349           \"Devin Smith\"    WR123     349     349.0  351   \n",
       "350          \"Chris Conley\"    WR124     350     350.0        \n",
       "\n",
       "[351 rows x 8 columns]"
      ]
     },
     "execution_count": 60,
     "metadata": {},
     "output_type": "execute_result"
    }
   ],
   "source": [
    "df"
   ]
  },
  {
   "cell_type": "code",
   "execution_count": 61,
   "metadata": {},
   "outputs": [],
   "source": [
    "df.to_csv('PlayerRankings.csv')"
   ]
  },
  {
   "cell_type": "code",
   "execution_count": 14,
   "metadata": {},
   "outputs": [
    {
     "ename": "NameError",
     "evalue": "name 'prevdf' is not defined",
     "output_type": "error",
     "traceback": [
      "\u001b[1;31m---------------------------------------------------------------------------\u001b[0m",
      "\u001b[1;31mNameError\u001b[0m                                 Traceback (most recent call last)",
      "\u001b[1;32m<ipython-input-14-26245f108988>\u001b[0m in \u001b[0;36m<module>\u001b[1;34m\u001b[0m\n\u001b[1;32m----> 1\u001b[1;33m \u001b[0mprevdf\u001b[0m\u001b[1;33m.\u001b[0m\u001b[0mcolumns\u001b[0m\u001b[1;33m\u001b[0m\u001b[1;33m\u001b[0m\u001b[0m\n\u001b[0m",
      "\u001b[1;31mNameError\u001b[0m: name 'prevdf' is not defined"
     ]
    }
   ],
   "source": [
    "prevdf.columns"
   ]
  },
  {
   "cell_type": "code",
   "execution_count": 15,
   "metadata": {},
   "outputs": [
    {
     "ename": "NameError",
     "evalue": "name 'prevdf' is not defined",
     "output_type": "error",
     "traceback": [
      "\u001b[1;31m---------------------------------------------------------------------------\u001b[0m",
      "\u001b[1;31mNameError\u001b[0m                                 Traceback (most recent call last)",
      "\u001b[1;32m<ipython-input-15-b1c4cc341bbb>\u001b[0m in \u001b[0;36m<module>\u001b[1;34m\u001b[0m\n\u001b[1;32m----> 1\u001b[1;33m \u001b[0mprevdf\u001b[0m\u001b[1;33m.\u001b[0m\u001b[0mcolumns\u001b[0m \u001b[1;33m=\u001b[0m \u001b[1;33m[\u001b[0m\u001b[1;34m'Rank'\u001b[0m\u001b[1;33m,\u001b[0m \u001b[1;34m'PLayer'\u001b[0m\u001b[1;33m,\u001b[0m \u001b[1;34m'Team'\u001b[0m\u001b[1;33m,\u001b[0m \u001b[1;34m'BYE'\u001b[0m \u001b[1;33m,\u001b[0m\u001b[1;34m'POSrank'\u001b[0m\u001b[1;33m,\u001b[0m\u001b[1;34m'Tier'\u001b[0m\u001b[1;33m]\u001b[0m\u001b[1;33m\u001b[0m\u001b[1;33m\u001b[0m\u001b[0m\n\u001b[0m",
      "\u001b[1;31mNameError\u001b[0m: name 'prevdf' is not defined"
     ]
    }
   ],
   "source": [
    "prevdf.columns = ['Rank', 'PLayer', 'Team', 'BYE' ,'POSrank','Tier']"
   ]
  },
  {
   "cell_type": "code",
   "execution_count": null,
   "metadata": {},
   "outputs": [],
   "source": [
    "prevdf2 = prevdf.copy()"
   ]
  },
  {
   "cell_type": "code",
   "execution_count": null,
   "metadata": {},
   "outputs": [],
   "source": [
    "for i in range(0,len(prevdf2)):\n",
    "    if df[df['player'] == '\"'+ prevdf.iloc[i]['PLayer'] + '\" ']['rank'].any() == True :\n",
    "        prevdf2['Rank'][i] = int(df[df['player'] == '\"'+ prevdf.iloc[i]['PLayer'] + '\" ']['rank']) + 1"
   ]
  },
  {
   "cell_type": "code",
   "execution_count": null,
   "metadata": {},
   "outputs": [],
   "source": [
    "# prevdf2[170:185]"
   ]
  },
  {
   "cell_type": "code",
   "execution_count": null,
   "metadata": {},
   "outputs": [],
   "source": [
    "df[df['player'] == '\"D.J. Chark\" ']['rank'].any() == True"
   ]
  },
  {
   "cell_type": "code",
   "execution_count": null,
   "metadata": {},
   "outputs": [],
   "source": [
    "# prevdf[prevdf['PLayer']=='D.J. Chark']"
   ]
  },
  {
   "cell_type": "code",
   "execution_count": null,
   "metadata": {},
   "outputs": [],
   "source": [
    "prevdf2.equals(prevdf)"
   ]
  },
  {
   "cell_type": "code",
   "execution_count": null,
   "metadata": {},
   "outputs": [],
   "source": [
    "prevdf3 = prevdf2.replace(\"'\")"
   ]
  },
  {
   "cell_type": "code",
   "execution_count": null,
   "metadata": {},
   "outputs": [],
   "source": [
    "prevdf3.to_csv('PlayerRankings.csv')"
   ]
  },
  {
   "cell_type": "markdown",
   "metadata": {},
   "source": [
    "# update current rankings"
   ]
  },
  {
   "cell_type": "code",
   "execution_count": null,
   "metadata": {},
   "outputs": [],
   "source": [
    "import os\n",
    "os.remove(\"ColorCodeADPnew.xlsx\")"
   ]
  },
  {
   "cell_type": "code",
   "execution_count": 3,
   "metadata": {},
   "outputs": [],
   "source": [
    "writer = pd.ExcelWriter(\"newPlayerRankings1.xlsx\", engine='xlsxwriter')"
   ]
  },
  {
   "cell_type": "code",
   "execution_count": 5,
   "metadata": {},
   "outputs": [],
   "source": [
    "ColorCodingDf = pd.read_csv('newPlayerRankings1.csv', encoding = \"ISO-8859-1\")"
   ]
  },
  {
   "cell_type": "code",
   "execution_count": 47,
   "metadata": {},
   "outputs": [],
   "source": [
    "ColorCodingDf = ColorCodingDf.replace({'TE????': 'TE++++'})"
   ]
  },
  {
   "cell_type": "code",
   "execution_count": 45,
   "metadata": {},
   "outputs": [
    {
     "data": {
      "text/html": [
       "<div>\n",
       "<style scoped>\n",
       "    .dataframe tbody tr th:only-of-type {\n",
       "        vertical-align: middle;\n",
       "    }\n",
       "\n",
       "    .dataframe tbody tr th {\n",
       "        vertical-align: top;\n",
       "    }\n",
       "\n",
       "    .dataframe thead th {\n",
       "        text-align: right;\n",
       "    }\n",
       "</style>\n",
       "<table border=\"1\" class=\"dataframe\">\n",
       "  <thead>\n",
       "    <tr style=\"text-align: right;\">\n",
       "      <th></th>\n",
       "      <th>rank</th>\n",
       "      <th>player</th>\n",
       "      <th>POSrank</th>\n",
       "      <th>Unnamed: 3</th>\n",
       "    </tr>\n",
       "  </thead>\n",
       "  <tbody>\n",
       "    <tr>\n",
       "      <th>0</th>\n",
       "      <td>12</td>\n",
       "      <td>\"Patrick Mahomes II\"</td>\n",
       "      <td>QB1</td>\n",
       "      <td>QB+</td>\n",
       "    </tr>\n",
       "    <tr>\n",
       "      <th>1</th>\n",
       "      <td>21</td>\n",
       "      <td>\"Josh Allen\"</td>\n",
       "      <td>QB2</td>\n",
       "      <td>QB+</td>\n",
       "    </tr>\n",
       "    <tr>\n",
       "      <th>2</th>\n",
       "      <td>31</td>\n",
       "      <td>\"Kyler Murray\"</td>\n",
       "      <td>QB3</td>\n",
       "      <td>QB+</td>\n",
       "    </tr>\n",
       "    <tr>\n",
       "      <th>3</th>\n",
       "      <td>37</td>\n",
       "      <td>\"Lamar Jackson\"</td>\n",
       "      <td>QB4</td>\n",
       "      <td>QB+</td>\n",
       "    </tr>\n",
       "    <tr>\n",
       "      <th>4</th>\n",
       "      <td>39</td>\n",
       "      <td>\"Dak Prescott\"</td>\n",
       "      <td>QB5</td>\n",
       "      <td>QB+</td>\n",
       "    </tr>\n",
       "    <tr>\n",
       "      <th>...</th>\n",
       "      <td>...</td>\n",
       "      <td>...</td>\n",
       "      <td>...</td>\n",
       "      <td>...</td>\n",
       "    </tr>\n",
       "    <tr>\n",
       "      <th>288</th>\n",
       "      <td>347</td>\n",
       "      <td>\"Jalen Guyton\"</td>\n",
       "      <td>WR117</td>\n",
       "      <td>NaN</td>\n",
       "    </tr>\n",
       "    <tr>\n",
       "      <th>289</th>\n",
       "      <td>348</td>\n",
       "      <td>\"Tutu Atwell\"</td>\n",
       "      <td>WR118</td>\n",
       "      <td>WR++++++</td>\n",
       "    </tr>\n",
       "    <tr>\n",
       "      <th>290</th>\n",
       "      <td>349</td>\n",
       "      <td>\"Damiere Byrd\"</td>\n",
       "      <td>WR119</td>\n",
       "      <td>NaN</td>\n",
       "    </tr>\n",
       "    <tr>\n",
       "      <th>291</th>\n",
       "      <td>350</td>\n",
       "      <td>\"N'Keal Harry\"</td>\n",
       "      <td>WR120</td>\n",
       "      <td>NaN</td>\n",
       "    </tr>\n",
       "    <tr>\n",
       "      <th>292</th>\n",
       "      <td>351</td>\n",
       "      <td>\"Devin Smith\"</td>\n",
       "      <td>WR121</td>\n",
       "      <td>NaN</td>\n",
       "    </tr>\n",
       "  </tbody>\n",
       "</table>\n",
       "<p>293 rows × 4 columns</p>\n",
       "</div>"
      ],
      "text/plain": [
       "     rank                 player POSrank Unnamed: 3\n",
       "0      12  \"Patrick Mahomes II\"      QB1        QB+\n",
       "1      21          \"Josh Allen\"      QB2        QB+\n",
       "2      31        \"Kyler Murray\"      QB3        QB+\n",
       "3      37       \"Lamar Jackson\"      QB4        QB+\n",
       "4      39        \"Dak Prescott\"      QB5        QB+\n",
       "..    ...                    ...     ...        ...\n",
       "288   347        \"Jalen Guyton\"    WR117        NaN\n",
       "289   348         \"Tutu Atwell\"    WR118   WR++++++\n",
       "290   349        \"Damiere Byrd\"    WR119        NaN\n",
       "291   350        \"N'Keal Harry\"    WR120        NaN\n",
       "292   351         \"Devin Smith\"    WR121        NaN\n",
       "\n",
       "[293 rows x 4 columns]"
      ]
     },
     "execution_count": 45,
     "metadata": {},
     "output_type": "execute_result"
    }
   ],
   "source": [
    "ColorCodingDf"
   ]
  },
  {
   "cell_type": "code",
   "execution_count": 48,
   "metadata": {},
   "outputs": [],
   "source": [
    "ColorCodingDf.to_excel(writer, sheet_name='Sheet1')"
   ]
  },
  {
   "cell_type": "code",
   "execution_count": 49,
   "metadata": {},
   "outputs": [],
   "source": [
    "workbook  = writer.book\n",
    "worksheet = writer.sheets['Sheet1']"
   ]
  },
  {
   "cell_type": "code",
   "execution_count": 50,
   "metadata": {},
   "outputs": [],
   "source": [
    "# format1 = workbook.add_format({'num_format': '#,##0.00'})\n",
    "# format2 = workbook.add_format({'num_format': '0%'})"
   ]
  },
  {
   "cell_type": "code",
   "execution_count": 51,
   "metadata": {},
   "outputs": [],
   "source": [
    "rb1plusformat = workbook.add_format({'bg_color': '#98FB98','font_color': '#000000'})\n",
    "\n",
    "worksheet.conditional_format('A1:G500', {'type': 'formula',\n",
    "                                          'criteria': '=$E1=\"RB+\"',\n",
    "                                          'format': rb1plusformat})"
   ]
  },
  {
   "cell_type": "code",
   "execution_count": 52,
   "metadata": {},
   "outputs": [],
   "source": [
    "rb1or2format = workbook.add_format({'bg_color': '#00FF7F','font_color': '#000000'})\n",
    "\n",
    "worksheet.conditional_format('A1:G500', {'type': 'formula',\n",
    "                                          'criteria': '=$E1=\"RB++\"',\n",
    "                                          'format': rb1or2format})"
   ]
  },
  {
   "cell_type": "code",
   "execution_count": 53,
   "metadata": {},
   "outputs": [],
   "source": [
    "rb2format = workbook.add_format({'bg_color': '#ADFF2F','font_color': '#000000'})\n",
    "\n",
    "worksheet.conditional_format('A1:G500', {'type': 'formula',\n",
    "                                          'criteria': '=$E1=\"RB+++\"',\n",
    "                                          'format': rb2format})"
   ]
  },
  {
   "cell_type": "code",
   "execution_count": 54,
   "metadata": {},
   "outputs": [],
   "source": [
    "rbFlexplusformat = workbook.add_format({'bg_color': '#00FF00','font_color': '#000000'})\n",
    "\n",
    "worksheet.conditional_format('A1:G500', {'type': 'formula',\n",
    "                                          'criteria': '=$E1=\"RB++++\"',\n",
    "                                          'format': rbFlexplusformat})"
   ]
  },
  {
   "cell_type": "code",
   "execution_count": 55,
   "metadata": {},
   "outputs": [],
   "source": [
    "rbUUformat = workbook.add_format({'bg_color': '#32CD32','font_color': '#000000'})\n",
    "\n",
    "worksheet.conditional_format('A1:G500', {'type': 'formula',\n",
    "                                          'criteria': '=$E1=\"RB+++++\"',\n",
    "                                          'format': rbUUformat})"
   ]
  },
  {
   "cell_type": "code",
   "execution_count": 56,
   "metadata": {},
   "outputs": [],
   "source": [
    "rbHCplusformat = workbook.add_format({'bg_color': '#6B8E23','font_color': '#000000'})\n",
    "\n",
    "worksheet.conditional_format('A1:G500', {'type': 'formula',\n",
    "                                          'criteria': '=$E1=\"RB++++++\"',\n",
    "                                          'format': rbHCplusformat})"
   ]
  },
  {
   "cell_type": "code",
   "execution_count": 57,
   "metadata": {},
   "outputs": [],
   "source": [
    "rbUnknownformat = workbook.add_format({'bg_color': '#228B22','font_color': '#000000'})\n",
    "\n",
    "worksheet.conditional_format('A1:G500', {'type': 'formula',\n",
    "                                          'criteria': '=$E1=\"RB???\"',\n",
    "                                          'format': rbUnknownformat})"
   ]
  },
  {
   "cell_type": "code",
   "execution_count": 58,
   "metadata": {},
   "outputs": [],
   "source": [
    "wr1plusformat = workbook.add_format({'bg_color': '#FFA07A','font_color': '#000000'})\n",
    "\n",
    "worksheet.conditional_format('A1:G500', {'type': 'formula',\n",
    "                                          'criteria': '=$E1=\"WR+\"',\n",
    "                                          'format': wr1plusformat})"
   ]
  },
  {
   "cell_type": "code",
   "execution_count": 59,
   "metadata": {},
   "outputs": [],
   "source": [
    "wr1or2format = workbook.add_format({'bg_color': '#FA8072','font_color': '#000000'})\n",
    "\n",
    "worksheet.conditional_format('A1:G500', {'type': 'formula',\n",
    "                                          'criteria': '=$E1=\"WR++\"',\n",
    "                                          'format': wr1or2format})"
   ]
  },
  {
   "cell_type": "code",
   "execution_count": 60,
   "metadata": {},
   "outputs": [],
   "source": [
    "wr2format = workbook.add_format({'bg_color': '#E9967A','font_color': '#000000'})\n",
    "\n",
    "worksheet.conditional_format('A1:G500', {'type': 'formula',\n",
    "                                          'criteria': '=$E1=\"WR+++\"',\n",
    "                                          'format': wr2format})"
   ]
  },
  {
   "cell_type": "code",
   "execution_count": 61,
   "metadata": {},
   "outputs": [],
   "source": [
    "wr2lFhC = workbook.add_format({'bg_color': '#CD5C5C','font_color': '#000000'})\n",
    "\n",
    "worksheet.conditional_format('A1:G500', {'type': 'formula',\n",
    "                                          'criteria': '=$E1=\"WR++++\"',\n",
    "                                          'format': wr2lFhC})"
   ]
  },
  {
   "cell_type": "code",
   "execution_count": 62,
   "metadata": {},
   "outputs": [],
   "source": [
    "wr2hC = workbook.add_format({'bg_color': '#FF0000','font_color': '#000000'})\n",
    "\n",
    "worksheet.conditional_format('A1:G500', {'type': 'formula',\n",
    "                                          'criteria': '=$E1=\"WR+++++\"',\n",
    "                                          'format': wr2hC})"
   ]
  },
  {
   "cell_type": "code",
   "execution_count": 63,
   "metadata": {},
   "outputs": [],
   "source": [
    "wrFplusplus = workbook.add_format({'bg_color': '#FF4500','font_color': '#000000'})\n",
    "\n",
    "worksheet.conditional_format('A1:G500', {'type': 'formula',\n",
    "                                          'criteria': '=$E1=\"WR++++++\"',\n",
    "                                          'format': wrFplusplus})"
   ]
  },
  {
   "cell_type": "code",
   "execution_count": 64,
   "metadata": {},
   "outputs": [],
   "source": [
    "wrfplus = workbook.add_format({'bg_color': '#DC143C','font_color': '#000000'})\n",
    "\n",
    "worksheet.conditional_format('A1:G500', {'type': 'formula',\n",
    "                                          'criteria': '=$E1=\"WRF+\"',\n",
    "                                          'format': wrfplus})"
   ]
  },
  {
   "cell_type": "code",
   "execution_count": 65,
   "metadata": {},
   "outputs": [],
   "source": [
    "wrunknownplus = workbook.add_format({'bg_color': '#DB7093','font_color': '#000000'})\n",
    "\n",
    "worksheet.conditional_format('A1:G500', {'type': 'formula',\n",
    "                                          'criteria': '=$E1=\"WR?+\"',\n",
    "                                          'format': wrunknownplus})"
   ]
  },
  {
   "cell_type": "code",
   "execution_count": 66,
   "metadata": {},
   "outputs": [],
   "source": [
    "wrunknownfplus = workbook.add_format({'bg_color': '#B22222','font_color': '#000000'})\n",
    "\n",
    "worksheet.conditional_format('A1:G500', {'type': 'formula',\n",
    "                                          'criteria': '=$E1=\"WR?F+\"',\n",
    "                                          'format': wrunknownfplus})"
   ]
  },
  {
   "cell_type": "code",
   "execution_count": 67,
   "metadata": {},
   "outputs": [],
   "source": [
    "teBest = workbook.add_format({'bg_color': '#F0F8FF','font_color': '#000000'})\n",
    "\n",
    "worksheet.conditional_format('A1:G500', {'type': 'formula',\n",
    "                                          'criteria': '=$E1=\"TE+\"',\n",
    "                                          'format': teBest})"
   ]
  },
  {
   "cell_type": "code",
   "execution_count": 68,
   "metadata": {},
   "outputs": [],
   "source": [
    "teplusplus = workbook.add_format({'bg_color': '#B0E0E6','font_color': '#000000'})\n",
    "\n",
    "worksheet.conditional_format('A1:G500', {'type': 'formula',\n",
    "                                          'criteria': '=$E1=\"TE++\"',\n",
    "                                          'format': teplusplus})"
   ]
  },
  {
   "cell_type": "code",
   "execution_count": 69,
   "metadata": {},
   "outputs": [],
   "source": [
    "teplus = workbook.add_format({'bg_color': '#00BFFF','font_color': '#000000'})\n",
    "\n",
    "worksheet.conditional_format('A1:G500', {'type': 'formula',\n",
    "                                          'criteria': '=$E1=\"TE+++\"',\n",
    "                                          'format': teplus})"
   ]
  },
  {
   "cell_type": "code",
   "execution_count": 70,
   "metadata": {},
   "outputs": [],
   "source": [
    "# tebasic = workbook.add_format({'bg_color': '#0000FF','font_color': '#000000'})\n",
    "\n",
    "# worksheet.conditional_format('A1:G500', {'type': 'formula',\n",
    "#                                           'criteria': '=$E1=\"TE+\"',\n",
    "#                                           'format': tebasic})"
   ]
  },
  {
   "cell_type": "code",
   "execution_count": 71,
   "metadata": {},
   "outputs": [],
   "source": [
    "qbgold = workbook.add_format({'bg_color': '#DDA0DD','font_color': '#000000'})\n",
    "\n",
    "worksheet.conditional_format('A1:G500', {'type': 'formula',\n",
    "                                          'criteria': '=$E1=\"QB+\"',\n",
    "                                          'format': qbgold})"
   ]
  },
  {
   "cell_type": "code",
   "execution_count": 72,
   "metadata": {},
   "outputs": [],
   "source": [
    "qbplusplus = workbook.add_format({'bg_color': '#FF00FF','font_color': '#000000'})\n",
    "\n",
    "worksheet.conditional_format('A1:G500', {'type': 'formula',\n",
    "                                          'criteria': '=$E1=\"QB++\"',\n",
    "                                          'format': qbplusplus})"
   ]
  },
  {
   "cell_type": "code",
   "execution_count": 73,
   "metadata": {},
   "outputs": [],
   "source": [
    "qbplus = workbook.add_format({'bg_color': '#9400D3','font_color': '#000000'})\n",
    "\n",
    "worksheet.conditional_format('A1:G500', {'type': 'formula',\n",
    "                                          'criteria': '=$E1=\"QB+++\"',\n",
    "                                          'format': qbplus})"
   ]
  },
  {
   "cell_type": "code",
   "execution_count": 74,
   "metadata": {},
   "outputs": [],
   "source": [
    "qb1 = workbook.add_format({'bg_color': '#4B0082','font_color': '#000000'})\n",
    "\n",
    "worksheet.conditional_format('A1:G500', {'type': 'formula',\n",
    "                                          'criteria': '=$E1=\"QB1\"',\n",
    "                                          'format': qb1})"
   ]
  },
  {
   "cell_type": "code",
   "execution_count": 75,
   "metadata": {},
   "outputs": [],
   "source": [
    "qb2 = workbook.add_format({'bg_color': '#4B0082','font_color': '#000000'})\n",
    "\n",
    "worksheet.conditional_format('A1:G500', {'type': 'formula',\n",
    "                                          'criteria': '=$E1=\"QB2\"',\n",
    "                                          'format': qb2})"
   ]
  },
  {
   "cell_type": "code",
   "execution_count": null,
   "metadata": {},
   "outputs": [],
   "source": []
  },
  {
   "cell_type": "code",
   "execution_count": 76,
   "metadata": {},
   "outputs": [],
   "source": [
    "writer.save()"
   ]
  },
  {
   "cell_type": "code",
   "execution_count": null,
   "metadata": {},
   "outputs": [],
   "source": []
  },
  {
   "cell_type": "code",
   "execution_count": null,
   "metadata": {},
   "outputs": [],
   "source": []
  }
 ],
 "metadata": {
  "kernelspec": {
   "display_name": "Python 3",
   "language": "python",
   "name": "python3"
  },
  "language_info": {
   "codemirror_mode": {
    "name": "ipython",
    "version": 3
   },
   "file_extension": ".py",
   "mimetype": "text/x-python",
   "name": "python",
   "nbconvert_exporter": "python",
   "pygments_lexer": "ipython3",
   "version": "3.8.5"
  }
 },
 "nbformat": 4,
 "nbformat_minor": 2
}
